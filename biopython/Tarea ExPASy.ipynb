{
 "cells": [
  {
   "cell_type": "markdown",
   "metadata": {},
   "source": [
    "# Tarea ExPASy"
   ]
  },
  {
   "cell_type": "markdown",
   "metadata": {},
   "source": [
    "## Ejercicio 1"
   ]
  },
  {
   "cell_type": "code",
   "execution_count": 20,
   "metadata": {
    "scrolled": false
   },
   "outputs": [
    {
     "name": "stdout",
     "output_type": "stream",
     "text": [
      "Ingresa accesion numbers a comparar PS00079 PS00080\n",
      "Ingresa linaje Homo sapiens\n",
      "Ingresa ID de secuencia contra la cual comparar HPHL1_HUMAN\n",
      "https://prosite.expasy.org/cgi-bin/prosite/PSScan.cgi?seq=HPHL1_HUMAN&output=xml&sig=PS00079+PS00080&lineage=Homo+sapiens\n",
      ">Prosite # PS00079 Rango 341-361\n",
      "KWMITCQVSDHLQAGMLGQY\n",
      "\n",
      ">Prosite # PS00079 Rango 694-714\n",
      "IFRVFCATMPHLSRGMGQIY\n",
      "\n",
      ">Prosite # PS00079 Rango 1043-1063\n",
      "TWLLHCHVSDHIHAGMETTY\n",
      "\n",
      ">Prosite # PS00080 Rango 1048-1059\n",
      "CHVSDHIHAGM\n",
      "\n"
     ]
    }
   ],
   "source": [
    "from Bio.ExPASy import ScanProsite\n",
    "\n",
    "from Bio import ExPASy\n",
    "\n",
    "from Bio import SwissProt\n",
    "\n",
    "from urllib.request import urlopen\n",
    "\n",
    "from urllib.parse import urlencode\n",
    "\n",
    "\n",
    "\n",
    "\n",
    "def scan(seq=\"\", mirror=\"https://prosite.expasy.org\", output=\"xml\", **keywords):\n",
    "    \n",
    "    \n",
    "    parameters = {\"seq\": seq, \"output\": output}\n",
    "    \n",
    "    ##Cambio para solo usar sig\n",
    "    if seq is None:\n",
    "        parameters = {\"output\": output}\n",
    "    \n",
    "    \n",
    "    for key, value in keywords.items():\n",
    "        if value is not None:\n",
    "            parameters[key] = value\n",
    "\n",
    "        \n",
    "    command = urlencode(parameters)\n",
    "    url = \"%s/cgi-bin/prosite/PSScan.cgi?%s\" % (mirror, command)\n",
    "    print(url)\n",
    "    handle = urlopen(url)\n",
    "    return handle\n",
    "\n",
    "# accesion = \"PS00079\\nPS00080\" \n",
    "\n",
    "# secuencia = \"HPHL1_HUMAN\"\n",
    "\n",
    "# linaje = Homo sapiens\n",
    "\n",
    "accesion = str(input(\"Ingresa accesion numbers a comparar \"))\n",
    "\n",
    "linaje = str(input(\"Ingresa linaje \"))\n",
    "\n",
    "secuencia = str(input(\"Ingresa ID de secuencia contra la cual comparar \"))\n",
    "\n",
    "handle = scan(seq = secuencia, sig = accesion, lineage = linaje)\n",
    "\n",
    "results = ScanProsite.read(handle)\n",
    "\n",
    "handle = ExPASy.get_sprot_raw(results[0][\"sequence_id\"])\n",
    "\n",
    "record = SwissProt.read(handle)\n",
    "\n",
    "for r in results: \n",
    "    \n",
    "    print(\">Prosite #\",r[\"signature_ac\"], end = \" \")\n",
    "    \n",
    "    print(\"Rango\", end = \" \")\n",
    "    \n",
    "    print(r[\"start\"], end = \"-\")\n",
    "    \n",
    "    print(r[\"stop\"], end = \"\\n\")\n",
    "    \n",
    "    print(record.sequence[r[\"start\"]:r[\"stop\"]], end = \"\\n\\n\")\n",
    "    \n"
   ]
  },
  {
   "cell_type": "markdown",
   "metadata": {},
   "source": [
    "## Ejercicio 2"
   ]
  },
  {
   "cell_type": "code",
   "execution_count": 8,
   "metadata": {
    "scrolled": true
   },
   "outputs": [
    {
     "name": "stdout",
     "output_type": "stream",
     "text": [
      "Ingresa tus accesion numbers separados por una diagonal O23729/O46647\n",
      "Accesion No.#O23729    Enzima 2.3.1.74\n",
      "Accesion No.#O46647    Enzima 3.1.1.34\n"
     ]
    }
   ],
   "source": [
    "from Bio.ExPASy import Enzyme\n",
    "\n",
    "from Bio import ExPASy\n",
    "\n",
    "from Bio import SwissProt\n",
    "\n",
    "import re\n",
    "\n",
    "lista = str(input(\"Ingresa tus accesion numbers separados por una diagonal \"))\n",
    "\n",
    "# O23729/O46647\n",
    "\n",
    "# Crea lista a partir de input\n",
    "\n",
    "lista = lista.split(\"/\")\n",
    "\n",
    "for element in lista:\n",
    "    \n",
    "    # Encuentra cada nombre de enzima en SwissProt a partir de los accesion numbers\n",
    "\n",
    "    handle = ExPASy.get_sprot_raw(element)\n",
    "    \n",
    "    record = SwissProt.read(handle)\n",
    "    \n",
    "    ecNumber = re.findall(\"\\d\\.\\d\\.\\d\\.\\d*\", str(record.description))[0]\n",
    "\n",
    "    print (f\"Accesion No.#{element}    Enzima {ecNumber}\")\n",
    "    \n",
    "   "
   ]
  },
  {
   "cell_type": "markdown",
   "metadata": {},
   "source": [
    "# Ejercicio 3"
   ]
  },
  {
   "cell_type": "code",
   "execution_count": 2,
   "metadata": {},
   "outputs": [
    {
     "name": "stdout",
     "output_type": "stream",
     "text": [
      "Ingresa ruta hacia tu archivo cellosaurus../test/archivos_trabajo/cellosaurus.txt\n",
      "Ingresa especie a saber proporcion de sexos Homo sapiens\n",
      "Especie: Homo sapiens\n",
      "Total de mujeres: 39293\n",
      "Total de hombres: 45977\n",
      "Total de individuos: 85270\n"
     ]
    },
    {
     "data": {
      "image/png": "[encoded data removed]",
      "text/plain": [
       "<Figure size 432x288 with 1 Axes>"
      ]
     },
     "metadata": {},
     "output_type": "display_data"
    }
   ],
   "source": [
    "from Bio.ExPASy import cellosaurus\n",
    "\n",
    "import matplotlib.pyplot as plt\n",
    "\n",
    "path = str(input(\"Ingresa ruta hacia tu archivo cellosaurus\"))\n",
    "\n",
    "especie = str(input(\"Ingresa especie a saber proporcion de sexos \"))\n",
    "\n",
    "with open(path) as handle:\n",
    "    \n",
    "    records = cellosaurus.parse(handle)\n",
    "\n",
    "\n",
    "    mujeres = 0\n",
    "\n",
    "    hombres = 0\n",
    "\n",
    "    total = 0\n",
    "    \n",
    "    # Recorre todos los records\n",
    "    \n",
    "    for record in records:\n",
    "        \n",
    "        if especie in record[\"OX\"][0]:\n",
    "            \n",
    "            # Cuenta cuantos individuos de cada sexo hay en homo sapiens\n",
    "            \n",
    "            if record[\"SX\"] == \"Female\":\n",
    "            \n",
    "                mujeres += 1\n",
    "            \n",
    "                total += 1\n",
    "            \n",
    "            if record[\"SX\"] == \"Male\":\n",
    "            \n",
    "                hombres += 1\n",
    "            \n",
    "                total +=1\n",
    "            \n",
    "    print(f\"Especie: {especie}\")\n",
    "    print(f\"Total de mujeres: {mujeres}\")\n",
    "    print(f\"Total de hombres: {hombres}\")\n",
    "    print(f\"Total de individuos: {total}\")\n",
    "        \n",
    "labels = \"Hombres\", \"Mujeres\"\n",
    "\n",
    "sizes = [hombres, mujeres]\n",
    "\n",
    "explode = (0, 0) \n",
    "\n",
    "# Realiza grafica de pie con matplotlib\n",
    "\n",
    "fig1, ax1 = plt.subplots()\n",
    "ax1.pie(sizes, explode = explode, labels = labels, autopct = '%1.1f%%', shadow = False, startangle = 90)\n",
    "ax1.axis('equal')  \n",
    "plt.show()\n"
   ]
  }
 ],
 "metadata": {
  "kernelspec": {
   "display_name": "Python 3",
   "language": "python",
   "name": "python3"
  },
  "language_info": {
   "codemirror_mode": {
    "name": "ipython",
    "version": 3
   },
   "file_extension": ".py",
   "mimetype": "text/x-python",
   "name": "python",
   "nbconvert_exporter": "python",
   "pygments_lexer": "ipython3",
   "version": "3.7.6"
  }
 },
 "nbformat": 4,
 "nbformat_minor": 4
}
