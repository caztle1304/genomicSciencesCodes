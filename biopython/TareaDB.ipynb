{
 "cells": [
  {
   "cell_type": "markdown",
   "metadata": {},
   "source": [
    "# Tarea DB"
   ]
  },
  {
   "cell_type": "markdown",
   "metadata": {},
   "source": [
    "## Ejercicio 1"
   ]
  },
  {
   "cell_type": "code",
   "execution_count": 25,
   "metadata": {
    "scrolled": true
   },
   "outputs": [
    {
     "name": "stdout",
     "output_type": "stream",
     "text": [
      "Teclea la ruta hacia el archivo input../test/archivos_trabajo/1kcw.pdb\n",
      "possible di-sulfide bond: Cys 155 - Cys 181 2.0\n",
      "possible di-sulfide bond: Cys 257 - Cys 338 2.03\n",
      "possible di-sulfide bond: Cys 515 - Cys 541 2.02\n",
      "possible di-sulfide bond: Cys 618 - Cys 699 2.03\n",
      "possible di-sulfide bond: Cys 855 - Cys 881 2.02\n"
     ]
    }
   ],
   "source": [
    "import Bio.PDB.PDBParser\n",
    "\n",
    "parser = Bio.PDB.PDBParser(QUIET=True)\n",
    "\n",
    "entrada = str(input(\"Teclea la ruta hacia el archivo input\"))\n",
    "\n",
    "structure = parser.get_structure(\"1KCW\", entrada)\n",
    "\n",
    "model = structure[0]\n",
    "\n",
    "achain = model['A']\n",
    "\n",
    "cysresidues = []\n",
    "\n",
    "# Se recorre cada residuo hasta encontrar CYS\n",
    "\n",
    "for residue in achain:\n",
    "    \n",
    "    if residue.get_resname() == 'CYS':\n",
    "        \n",
    "        cysresidues.append(residue)\n",
    "\n",
    "\n",
    "# El ciclo for recorre todos los residuos y posibles combinaciones\n",
    "\n",
    "# Variable para guardar indice de c2\n",
    "\n",
    "indiceAnterior = -1\n",
    "\n",
    "for c1 in cysresidues:\n",
    "    \n",
    "    c1index = c1.get_id()[1]\n",
    "    \n",
    "    # Si el indice de c1 es el mismo que c2 en la corrida anterior se salta el ciclo\n",
    "    \n",
    "    # Es para evitar repeticiones\n",
    "    \n",
    "    if (c1index == indiceAnterior):\n",
    "        \n",
    "        continue\n",
    "    \n",
    "    for c2 in cysresidues:\n",
    "    \n",
    "        c2index = c2.get_id()[1]\n",
    "        \n",
    "        # Si ambos indices son iguales, se salta el ciclo\n",
    "        \n",
    "        if (c1index == c2index):\n",
    "            \n",
    "            continue\n",
    "        \n",
    "        # Se obtiene atomo SG para comparar distancias\n",
    "        \n",
    "        if (c1['SG'] - c2['SG']) < 8.0:\n",
    "            \n",
    "            print(\"possible di-sulfide bond:\", end=\" \")\n",
    "            \n",
    "            print(\"Cys\",c1index,\"-\", end=\" \")\n",
    "            \n",
    "            print(\"Cys\",c2index, end=\" \")\n",
    "            \n",
    "            print(round(c1['SG'] - c2['SG'],2))\n",
    "            \n",
    "            indiceAnterior = c2.get_id()[1]"
   ]
  },
  {
   "cell_type": "markdown",
   "metadata": {},
   "source": [
    "## Ejercicio 2"
   ]
  },
  {
   "cell_type": "code",
   "execution_count": 3,
   "metadata": {
    "scrolled": true
   },
   "outputs": [
    {
     "name": "stdout",
     "output_type": "stream",
     "text": [
      "Teclea ruta hacia archivo de entrada../test/archivos_ejercicio/1ce0.pdb\n",
      "LYS 12 en chain A y LYS 7 en chain B se encuentran cerca: 11.29\n"
     ]
    }
   ],
   "source": [
    "import Bio.PDB.PDBParser\n",
    "\n",
    "import sys\n",
    "\n",
    "from Bio.PDB.Polypeptide import is_aa\n",
    "\n",
    "parser = Bio.PDB.PDBParser(QUIET=True)\n",
    "\n",
    "entrada = str(input(\"Teclea ruta hacia archivo de entrada\"))\n",
    "\n",
    "structure = parser.get_structure(\"BS3\", entrada)\n",
    "\n",
    "aChain = structure[0]['A']\n",
    "\n",
    "bChain = structure[0]['B']\n",
    "\n",
    "lysAChain = []\n",
    "\n",
    "lysBChain = []\n",
    "\n",
    "# Se obtienen todas las lisinas en chain A y B\n",
    "\n",
    "for residuo in aChain:\n",
    "    \n",
    "    if residuo.get_resname() == \"LYS\":\n",
    "        \n",
    "        lysAChain.append(residuo)\n",
    "        \n",
    "for residuo in bChain: \n",
    "    \n",
    "    if residuo.get_resname() == \"LYS\":\n",
    "        \n",
    "        lysBChain.append(residuo)\n",
    "        \n",
    "lysBChain = [r['NZ'] for r in lysBChain if is_aa(r)]\n",
    "\n",
    "neighbors = Bio.PDB.NeighborSearch(lysBChain)\n",
    "\n",
    "for res1 in lysAChain:\n",
    "    \n",
    "    if is_aa(res1):\n",
    "        \n",
    "        r1Nz = res1['NZ']\n",
    "        \n",
    "        r1Ind = res1.get_id()[1]\n",
    "        \n",
    "        for r2Nz in neighbors.search(r1Nz.get_coord(), 12):\n",
    "            \n",
    "            res2 = r2Nz.get_parent()\n",
    "            \n",
    "            r2Ind = res2.get_id()[1]\n",
    "    \n",
    "            print(\"LYS\",r1Ind,\"en chain A\", end=\" \")\n",
    "        \n",
    "            print(\"y LYS\",r2Ind,\"en chain B\", end=\" \")\n",
    "            \n",
    "            print(\"se encuentran cerca:\", round(r1Nz-r2Nz,2))"
   ]
  },
  {
   "cell_type": "markdown",
   "metadata": {},
   "source": [
    "## Ejercicio 3"
   ]
  },
  {
   "cell_type": "code",
   "execution_count": 73,
   "metadata": {},
   "outputs": [
    {
     "name": "stdout",
     "output_type": "stream",
     "text": [
      "# Descripcion de ECNO :\n",
      "EC number for enzyme or CAS registry number\n",
      "# Descripcion de protein_protein_small_genome :\n",
      "All proteins from this genome\n"
     ]
    }
   ],
   "source": [
    "from Bio import Entrez\n",
    "\n",
    "Entrez.email = \"angeldc@lcg.unam.mx\"\n",
    "\n",
    "handle = Entrez.einfo(db = \"protein\")\n",
    "\n",
    "record = Entrez.read(handle)\n",
    "\n",
    "# Recorre cada field en el record\n",
    "\n",
    "for field in record[\"DbInfo\"][\"FieldList\"]:\n",
    "    \n",
    "    if field[\"Name\"] == \"ECNO\":\n",
    "        \n",
    "        print(f\"# Descripcion de ECNO :\")\n",
    "        \n",
    "        print(field[\"Description\"])\n",
    "        \n",
    "# Recorre cada link en el record\n",
    "        \n",
    "for link in record[\"DbInfo\"][\"LinkList\"]:\n",
    "    \n",
    "    if link[\"Name\"] == \"protein_protein_small_genome\":\n",
    "        \n",
    "        print(\"# Descripcion de protein_protein_small_genome :\")\n",
    "        \n",
    "        print(link[\"Description\"])"
   ]
  },
  {
   "cell_type": "markdown",
   "metadata": {},
   "source": [
    "## Ejercicio 4"
   ]
  },
  {
   "cell_type": "code",
   "execution_count": 71,
   "metadata": {
    "scrolled": true
   },
   "outputs": [
    {
     "name": "stdout",
     "output_type": "stream",
     "text": [
      "Teclea cada busqueda con una diagonal entre cada busqueda\n",
      "Notoryctes typhlops [Organism] AND PNOC [Gene Name]/ Notoryctes typhlops [Organism] AND RUNX2 [Gene Name]/Cypripedium guttatum [Organism] AND matK [Gene Name]/Hepatitis B virus [Organism] AND X [Gene Name] AND migrant 467 [Isolate]\n",
      "\n",
      "Lo siguiente sera escrito en el archivo output\n",
      "\n",
      ">JN633765.1 Notoryctes typhlops prepronociceptin (PNOC) gene, partial cds\n",
      "TTCTGGGCTCCTTGCATCAAGGCCATGAATAAGGGGCCCTGGCAGCTCAGCTCAGCCAGCAAGGACAAGGCAATGACATCCTTCTATCAGCCACAGTTGATGGAGGCACAATCCCTAAGCCAGATGGAGGGCAAGAACCGAGTGTCTCGTGTCAGAAGTTTGTTCCATGCCCAGGAACAAGAGGCAGCAGAAGGCTTAGGGGAGTCAGGGGAAGAGATGCAGAAGAAATTACAGAAACGGTTTGGGGGCTTCACTGGGGCACGGAAATCAGCCCGGAAGTTGGCCAACCAGAAG\n",
      "\n",
      "\n",
      "\n",
      ">KY938699.1 Notoryctes typhlops runt-related transcription factor 2 (RUNX2) gene, partial cds\n",
      "ACCCGGCAGATGAGCGACGTGAGCCCGGTAGTGGCTGCCCAGCAGCAGCAGCAGCAGCAGCAGCAGCAACAGCAACAGCAGCAACAGCAGCAGCAGCAGCAGCAGCAGCAGGAGGCGGCGGCCGCAGCAGCGGCGGCGGCGGCGGCGGCGGCGGCGGCGGCAGCGGCAGCGGCAGCCGCGGTGCCGAGGCTGCGCCCGCCTCACGACAACCGCACGATG\n",
      "\n",
      "\n",
      "\n",
      ">KF261992.1 Cypripedium guttatum isolate CG_20120624_74 maturase K (matK) gene, partial cds; chloroplast\n",
      "GTTCCTTCTTTGCATTTATTGCGATTGCTTTTCCACGAATATCATTATTTTAATAGTCTCATTACTTCAAAGAAAGGCATTTACGCCTTTTCAAGAATAAATAAAAGATTCCTTTGGTTCCTATATAATTCTTATGTATATGAATGCGAATATCTATTCCATTTTCTTCGTAAACAGTCTTCTTATTTACGATCAACATCTTCTGGAGTGTTTCTTGAGCGAACACATTTCTATGTAAAAATAGAACATCTTATAGTAGTGTGTTGTAATTCTTTTCATAGGATCCTATGCTTTCTCAAGGATCCTTTCATGCATTATGTTCGATATCAAGGAAAAGCAATTCTGGCTTCAAAGGGAACTCTTATTATGATGAAGAAATGGAAATTTCATCTTGTGAATTTTTGGCAATCTTATTTTCACTTTTGGTCTCAACCGTATAGGATCCATATAAAGCAATTATCCAACTATTCCTTCTCTTTTCTGGGGTATTTTTCAAGTGTACTAGAAAATAATTTGGTAGTAAGAAATCAAATGCTAGAGAATTCATTTCTAATAAATATTATGACTAAGAAATTAGATACCATAGCCCCAGTTATTTCTCTTATTGGATCATTGTCGAAAGCTCAATTTTGTACTGTATTGGGCCATCCTATTAGTAAACCGATCTGGACCGATTTATCGGATTCTGATATTCTTGATCGATTTTGCCGGATATGTAGAAATCTTTGTCGTTATC\n",
      "\n",
      "\n",
      "\n",
      ">GQ855547.1 Hepatitis B virus isolate migrant 467 X protein (X), precore/core protein (C), and core protein (C) genes, partial cds\n",
      "TGTGCCTTCTCATCTGCCGGTCCGTGTGCACTTCGCTTCACCTCTGCACGTCGCATGGAGACCACCGTGAACGCCCGCCAGGTCTTGCCCAAGGTCTTACATAAGAGGACTCTTGGACTCTCAGCAATGTCAACGACCGACCTTGAGGCATACTTCAAAGACTGTGTATTTAAAGACTGGGAGGAGTTGGGGGAGGAGATTAGGTTAAAGGTCTTTGTACTGGGAGGCTGTAGGCATAAATTGGTCTGTTCACCAGCACCATGCAACTTTTTCACCTCTGCCTAATCATCTCATGTTCATGTCCTACTGTTCAAGCCTCCAAGCTGTGCCTTGGGTGGCTTTGGGGCATGGACATTGACCCGTATAAAGAATTTGGAGCTTCTGTGGAGTTACTCTCTTTTTTGCCTTCTGACTTCTTTCCTTCTATTCGAGATCTCCTCGACACCGCCTCTGCTCTATATCGGGAGGCCTTAGAGTCTCCGGAACATTGTTCACCTCAC\n",
      "\n",
      "\n",
      "\n"
     ]
    }
   ],
   "source": [
    "from Bio import Entrez, SeqIO\n",
    "\n",
    "newFile = open(\"../build/outputEjercicioDB.fasta\", \"w+\")\n",
    "\n",
    "Entrez.email = \"angeldc@lcg.unam.mx\"\n",
    "\n",
    "# Funcion para obtener secuencia de cada gen\n",
    "\n",
    "def obtenerProteina (listaDeBusqueda, archivo):\n",
    "    \n",
    "    for elemento in listaDeBusqueda:\n",
    "    \n",
    "        handle = Entrez.esearch(db= \"nucleotide\", term = elemento)\n",
    "\n",
    "        result = Entrez.read(handle)\n",
    "\n",
    "        handle = Entrez.efetch(db = \"nucleotide\", id = result[\"IdList\"], rettype = \"gb\", retmode = \"text\")\n",
    "\n",
    "        record = SeqIO.read(handle, \"genbank\")\n",
    "\n",
    "        handle.close()\n",
    "        \n",
    "        print(\">\", end = \"\")\n",
    "\n",
    "        print(record.id, record.description)\n",
    "\n",
    "        print(record.seq)\n",
    "        \n",
    "        print(\"\\n\\n\")\n",
    "        \n",
    "        escribirArchivo = \">\" + str(record.id) + \" \" + str(record.description) + \"\\n\" + str(record.seq) + \"\\n\"\n",
    "        \n",
    "        archivo.write(escribirArchivo)\n",
    "        \n",
    "# Crea lista con cada consulta a realizar\n",
    "        \n",
    "entrada = str(input(\"Teclea cada busqueda con una diagonal entre cada busqueda\\n\"))\n",
    "\n",
    "lista = entrada.split(\"/\")\n",
    "\n",
    "print(\"\\nLo siguiente sera escrito en el archivo output\\n\")\n",
    "\n",
    "obtenerProteina(lista, newFile)\n",
    "\n"
   ]
  }
 ],
 "metadata": {
  "kernelspec": {
   "display_name": "Python 3",
   "language": "python",
   "name": "python3"
  },
  "language_info": {
   "codemirror_mode": {
    "name": "ipython",
    "version": 3
   },
   "file_extension": ".py",
   "mimetype": "text/x-python",
   "name": "python",
   "nbconvert_exporter": "python",
   "pygments_lexer": "ipython3",
   "version": "3.7.6"
  }
 },
 "nbformat": 4,
 "nbformat_minor": 4
}
